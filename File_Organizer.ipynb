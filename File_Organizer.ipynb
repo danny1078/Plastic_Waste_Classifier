{
 "cells": [
  {
   "cell_type": "code",
   "execution_count": 1,
   "metadata": {},
   "outputs": [],
   "source": [
    "import os, shutil"
   ]
  },
  {
   "cell_type": "code",
   "execution_count": 15,
   "metadata": {},
   "outputs": [],
   "source": [
    "original_dataset_dir = '/Users/Danny Han/Desktop/Plastic_Waste_Identifier_Project/Training_Image_DB'\n",
    "base_dir = '/Users/Danny Han/Desktop/Plastic_Waste_Identifier_Project/Organized_Training_Image_DB'\n",
    "train_dir = os.path.join(base_dir, 'train')\n",
    "os.mkdir(train_dir)\n",
    "val_dir = os.path.join(base_dir, \"validation\")\n",
    "os.mkdir(val_dir)\n",
    "test_dir = os.path.join(base_dir, \"test\")\n",
    "os.mkdir(test_dir)"
   ]
  },
  {
   "cell_type": "code",
   "execution_count": 16,
   "metadata": {},
   "outputs": [],
   "source": [
    "train_PET_dir = os.path.join(train_dir, 'PET')\n",
    "os.mkdir(train_PET_dir)\n",
    "\n",
    "train_HDPE_dir = os.path.join(train_dir, 'HDPE')\n",
    "os.mkdir(train_HDPE_dir)\n",
    "\n",
    "train_LDPE_dir = os.path.join(train_dir, 'LDPE')\n",
    "os.mkdir(train_LDPE_dir)\n",
    "\n",
    "train_PS_dir = os.path.join(train_dir, 'PS')\n",
    "os.mkdir(train_PS_dir)\n",
    "\n",
    "train_PP_dir = os.path.join(train_dir, 'PP')\n",
    "os.mkdir(train_PP_dir)\n",
    "\n",
    "train_OTHERS_dir = os.path.join(train_dir, 'OTHERS')\n",
    "os.mkdir(train_OTHERS_dir)\n",
    "\n",
    "train_PVC_dir = os.path.join(train_dir, 'PVC')\n",
    "os.mkdir(train_PVC_dir)\n",
    "\n",
    "\n"
   ]
  },
  {
   "cell_type": "code",
   "execution_count": 17,
   "metadata": {},
   "outputs": [],
   "source": [
    "val_PET_dir = os.path.join(val_dir, 'PET')\n",
    "os.mkdir(val_PET_dir)\n",
    "\n",
    "val_HDPE_dir = os.path.join(val_dir, 'HDPE')\n",
    "os.mkdir(val_HDPE_dir)\n",
    "\n",
    "val_LDPE_dir = os.path.join(val_dir, 'LDPE')\n",
    "os.mkdir(val_LDPE_dir)\n",
    "\n",
    "val_PS_dir = os.path.join(val_dir, 'PS')\n",
    "os.mkdir(val_PS_dir)\n",
    "\n",
    "val_PP_dir = os.path.join(val_dir, 'PP')\n",
    "os.mkdir(val_PP_dir)\n",
    "\n",
    "val_OTHERS_dir = os.path.join(val_dir, 'OTHERS')\n",
    "os.mkdir(val_OTHERS_dir)\n",
    "\n",
    "val_PVC_dir = os.path.join(val_dir, 'PVC')\n",
    "os.mkdir(val_PVC_dir)"
   ]
  },
  {
   "cell_type": "code",
   "execution_count": 18,
   "metadata": {},
   "outputs": [],
   "source": [
    "test_PET_dir = os.path.join(test_dir, 'PET')\n",
    "os.mkdir(test_PET_dir)\n",
    "\n",
    "test_HDPE_dir = os.path.join(test_dir, 'HDPE')\n",
    "os.mkdir(test_HDPE_dir)\n",
    "\n",
    "test_LDPE_dir = os.path.join(test_dir, 'LDPE')\n",
    "os.mkdir(test_LDPE_dir)\n",
    "\n",
    "test_PS_dir = os.path.join(test_dir, 'PS')\n",
    "os.mkdir(test_PS_dir)\n",
    "\n",
    "test_PP_dir = os.path.join(test_dir, 'PP')\n",
    "os.mkdir(test_PP_dir)\n",
    "\n",
    "test_OTHERS_dir = os.path.join(test_dir, 'OTHERS')\n",
    "os.mkdir(test_OTHERS_dir)\n",
    "\n",
    "test_PVC_dir = os.path.join(test_dir, 'PVC')\n",
    "os.mkdir(test_PVC_dir)"
   ]
  },
  {
   "cell_type": "code",
   "execution_count": 25,
   "metadata": {},
   "outputs": [
    {
     "name": "stdout",
     "output_type": "stream",
     "text": [
      "209. 41q570pgsnl._sr600%2c315_piwhitestrip%2cbottomleft%2c0%2c35_pistarratingfourandhalf%2cbottomleft%2c360%2c-6_sr600%2c315_za(730%20reviews)%2c445%2c291%2c400%2c400%2carial%2c12%2c4%2c0%2c0%2c5_sclzzzzzzz_.jpg\n",
      "260. 41wjf-wlsxl._sr600%2c315_piwhitestrip%2cbottomleft%2c0%2c35_pistarratingfour%2cbottomleft%2c360%2c-6_sr600%2c315_za(423%20reviews)%2c445%2c291%2c400%2c400%2carial%2c12%2c4%2c0%2c0%2c5_sclzzzzzzz_.jpg\n",
      "372. water-soda-creative-plastic-bottled-beverage-handle-soda-coke-water-dispenser-bottle-spout-bottle-handle-beverage-dispense-in-wine-from-home-sandblaster-water-blaster.jpg\n",
      "82. 51a%2btnaonzl._sr600%2c315_piwhitestrip%2cbottomleft%2c0%2c35_pistarratingfourandhalf%2cbottomleft%2c360%2c-6_sr600%2c315_za(539%20reviews)%2c445%2c291%2c400%2c400%2carial%2c12%2c4%2c0%2c0%2c5_sclzzzzzzz_.jpg\n"
     ]
    }
   ],
   "source": [
    "i=0\n",
    "for file in os.listdir(os.path.join(original_dataset_dir, \"PET\")):\n",
    "\n",
    "    if i <= 350:\n",
    "        try:\n",
    "            shutil.copyfile(os.path.join(original_dataset_dir, \"PET\",file), os.path.join(train_PET_dir,file))\n",
    "        except FileNotFoundError:\n",
    "            print(file)\n",
    "        i+=1\n",
    "    elif i <= 550:\n",
    "        try:\n",
    "            shutil.copyfile(os.path.join(original_dataset_dir, \"PET\",file), os.path.join(val_PET_dir,file))\n",
    "        except FileNotFoundError:\n",
    "            print(file)\n",
    "        i+=1\n",
    "    elif i<= 677:\n",
    "        try:\n",
    "            shutil.copyfile(os.path.join(original_dataset_dir, \"PET\",file), os.path.join(test_PET_dir,file))\n",
    "        except FileNotFoundError:\n",
    "            print(file)\n",
    "        i+=1\n",
    "    "
   ]
  },
  {
   "cell_type": "code",
   "execution_count": 26,
   "metadata": {},
   "outputs": [
    {
     "name": "stdout",
     "output_type": "stream",
     "text": [
      "27. 417vff0trql._sr600%2c315_piwhitestrip%2cbottomleft%2c0%2c35_pistarratingfourandhalf%2cbottomleft%2c360%2c-6_sr600%2c315_za(6%20reviews)%2c445%2c291%2c400%2c400%2carial%2c12%2c4%2c0%2c0%2c5_sclzzzzzzz_.jpg\n",
      "42. bar5f-empty-shampoo-bottle-set-with-color-coded-pumps-refillable-dispensing-containers-for-conditioner-body-wash-hair-gel-liquid-hand-soap-diy-lotions-and-massage-oils-1-l-32-oz.jpg\n",
      "93. blank-cosmetic-package-collection-set-isolated-on-transparent-checkered-realistic-cosmetic-bottle-mock-up-set-shampoo-and-cream-pack-black-and-white-color_7714-288.jpg\n"
     ]
    }
   ],
   "source": [
    "i=0\n",
    "for file in os.listdir(os.path.join(original_dataset_dir, \"HDPE\")):\n",
    "\n",
    "    if i <= 500:\n",
    "        try:\n",
    "            shutil.copyfile(os.path.join(original_dataset_dir, \"HDPE\",file), os.path.join(train_HDPE_dir,file))\n",
    "        except FileNotFoundError:\n",
    "            print(file)\n",
    "        i+=1\n",
    "    elif i <= 600:\n",
    "        try:\n",
    "            shutil.copyfile(os.path.join(original_dataset_dir, \"HDPE\",file), os.path.join(val_HDPE_dir,file))\n",
    "        except FileNotFoundError:\n",
    "            print(file)\n",
    "        i+=1\n",
    "    elif i<= 721:\n",
    "        try:\n",
    "            shutil.copyfile(os.path.join(original_dataset_dir, \"HDPE\",file), os.path.join(test_HDPE_dir,file))\n",
    "        except FileNotFoundError:\n",
    "            print(file)\n",
    "        i+=1\n",
    "    "
   ]
  },
  {
   "cell_type": "code",
   "execution_count": 27,
   "metadata": {},
   "outputs": [],
   "source": [
    "i=0\n",
    "for file in os.listdir(os.path.join(original_dataset_dir, \"LDPE\")):\n",
    "\n",
    "    if i <= 70:\n",
    "        try:\n",
    "            shutil.copyfile(os.path.join(original_dataset_dir, \"LDPE\",file), os.path.join(train_LDPE_dir,file))\n",
    "        except FileNotFoundError:\n",
    "            print(file)\n",
    "        i+=1\n",
    "    elif i <= 120:\n",
    "        try:\n",
    "            shutil.copyfile(os.path.join(original_dataset_dir, \"LDPE\",file), os.path.join(val_LDPE_dir,file))\n",
    "        except FileNotFoundError:\n",
    "            print(file)\n",
    "        i+=1\n",
    "    elif i<= 148:\n",
    "        try:\n",
    "            shutil.copyfile(os.path.join(original_dataset_dir, \"LDPE\",file), os.path.join(test_LDPE_dir,file))\n",
    "        except FileNotFoundError:\n",
    "            print(file)\n",
    "        i+=1\n",
    "    "
   ]
  },
  {
   "cell_type": "code",
   "execution_count": 28,
   "metadata": {},
   "outputs": [
    {
     "name": "stdout",
     "output_type": "stream",
     "text": [
      "128. plastic-drug-bottle-container-with-closed-cap-pharmaceutical-industry-packaging-many-of-medicine-bottle-with-different-size-and-shape-with-blank-lab-p665br.jpg\n",
      "130. a-marvellous-huge-dog-rope-toy-dog-rope-pull-toy-rope-dog-toy-pattern-polypropylene-rope-dog-toy-pet-champion-dog-rope-toy-plush-rope-dog-toy-dog-ate-part-of-rope-toy-pet-place-rope-dog-toy-d.jpg\n",
      "169. avent-bpa-free-natural-polypropylene-bottle-260ml-infant-mamadeiras-juice-milk-water-feeding-bottle-high-quality_9bf1934e-b107-4dbc-97b6-279b3d9febd9_1200x1200.jpg\n",
      "171. 20pcslot-plastic-white-bottle-120ml-plastic-bottle-with-tear-pullcap-medicine-bottles-candy-jar-8933-80688223-b967645cc123840bf1f0a7b0891775ad-catalog.jpg_200x200q80.jpg_.web\n",
      "192. small-plastic-storage-boxes-plastic-containers-large-clear-storage-containers-with-lids-polypropylene-storage-boxes-small-plastic-small-plastic-storage-boxes-amazon.jpg\n",
      "301. are-dr-brown-bottles-dishwasher-safe-baby-products-browns-free-polypropylene-natural-flow-standard-neck-bottle-4-oz-are-dr-brown-baby-bottles-dishwasher-safe.jpg\n",
      "380. pill-bottle-holder-waterproof-mini-pill-box-case-medicine-bottle-holder-container-pill-key-chain-organizer-case-water-bottle-daily-pill-storage-medicine-bottle-holder.jpg\n",
      "398. medicine-storage-portable-pill-case-medicine-storage-box-8-compartments-makeup-storage-case-container-case-plastic-pill-cases-medicine-bottle-storage-ideas.jpg\n",
      "79. dirty%20laundry%20basket%20polypropylene%20laundry%20basket%20storage%20basket%20toy%20storage%20laundry%20basket%20soft%20plastic%20bucket%20household%20color%20gray%20b07hc73k7b_5-500x500-product_popup.jpg\n"
     ]
    }
   ],
   "source": [
    "i=0\n",
    "for file in os.listdir(os.path.join(original_dataset_dir, \"PP\")):\n",
    "\n",
    "    if i <= 500:\n",
    "        try:\n",
    "            shutil.copyfile(os.path.join(original_dataset_dir, \"PP\",file), os.path.join(train_PP_dir,file))\n",
    "        except FileNotFoundError:\n",
    "            print(file)\n",
    "        i+=1\n",
    "    elif i <= 700:\n",
    "        try:\n",
    "            shutil.copyfile(os.path.join(original_dataset_dir, \"PP\",file), os.path.join(val_PP_dir,file))\n",
    "        except FileNotFoundError:\n",
    "            print(file)\n",
    "        i+=1\n",
    "    elif i<= 914:\n",
    "        try:\n",
    "            shutil.copyfile(os.path.join(original_dataset_dir, \"PP\",file), os.path.join(test_PP_dir,file))\n",
    "        except FileNotFoundError:\n",
    "            print(file)\n",
    "        i+=1\n",
    "    "
   ]
  },
  {
   "cell_type": "code",
   "execution_count": 29,
   "metadata": {},
   "outputs": [
    {
     "name": "stdout",
     "output_type": "stream",
     "text": [
      "168. single-compartment-polystyrene-storage-boxes-single-compartment-polystyrene-storage-boxes-dart-95ht1r-carryout-food-container-foam-hinged-1-comp-9-12-x-9-2000-x-2000.jpeg\n"
     ]
    }
   ],
   "source": [
    "i=0\n",
    "for file in os.listdir(os.path.join(original_dataset_dir, \"PS\")):\n",
    "\n",
    "    if i <= 200:\n",
    "        try:\n",
    "            shutil.copyfile(os.path.join(original_dataset_dir, \"PS\",file), os.path.join(train_PS_dir,file))\n",
    "        except FileNotFoundError:\n",
    "            print(file)\n",
    "        i+=1\n",
    "    elif i <= 300:\n",
    "        try:\n",
    "            shutil.copyfile(os.path.join(original_dataset_dir, \"PS\",file), os.path.join(val_PS_dir,file))\n",
    "        except FileNotFoundError:\n",
    "            print(file)\n",
    "        i+=1\n",
    "    elif i<= 433:\n",
    "        try:\n",
    "            shutil.copyfile(os.path.join(original_dataset_dir, \"PS\",file), os.path.join(test_PS_dir,file))\n",
    "        except FileNotFoundError:\n",
    "            print(file)\n",
    "        i+=1\n",
    "    "
   ]
  },
  {
   "cell_type": "code",
   "execution_count": 30,
   "metadata": {},
   "outputs": [],
   "source": [
    "i=0\n",
    "for file in os.listdir(os.path.join(original_dataset_dir, \"PVC\")):\n",
    "\n",
    "    if i <= 100:\n",
    "        try:\n",
    "            shutil.copyfile(os.path.join(original_dataset_dir, \"PVC\",file), os.path.join(train_PVC_dir,file))\n",
    "        except FileNotFoundError:\n",
    "            print(file)\n",
    "        i+=1\n",
    "    elif i <= 150:\n",
    "        try:\n",
    "            shutil.copyfile(os.path.join(original_dataset_dir, \"PVC\",file), os.path.join(val_PVC_dir,file))\n",
    "        except FileNotFoundError:\n",
    "            print(file)\n",
    "        i+=1\n",
    "    elif i<= 190:\n",
    "        try:\n",
    "            shutil.copyfile(os.path.join(original_dataset_dir, \"PVC\",file), os.path.join(test_PVC_dir,file))\n",
    "        except FileNotFoundError:\n",
    "            print(file)\n",
    "        i+=1\n",
    "    "
   ]
  },
  {
   "cell_type": "code",
   "execution_count": 31,
   "metadata": {},
   "outputs": [
    {
     "name": "stdout",
     "output_type": "stream",
     "text": [
      "72. videoblocks-organic-waste-for-compost-with-vegetables-fruits-and-varied-food-household-garbage-recycling-and-composting-environment-concept_bdz7l9yfyz_thumbnail-full01.png\n"
     ]
    }
   ],
   "source": [
    "i=0\n",
    "for file in os.listdir(os.path.join(original_dataset_dir, \"OTHERS\")):\n",
    "\n",
    "    if i <= 90:\n",
    "        try:\n",
    "            shutil.copyfile(os.path.join(original_dataset_dir, \"OTHERS\",file), os.path.join(train_OTHERS_dir,file))\n",
    "        except FileNotFoundError:\n",
    "            print(file)\n",
    "        i+=1\n",
    "    elif i <= 140:\n",
    "        try:\n",
    "            shutil.copyfile(os.path.join(original_dataset_dir, \"OTHERS\",file), os.path.join(val_OTHERS_dir,file))\n",
    "        except FileNotFoundError:\n",
    "            print(file)\n",
    "        i+=1\n",
    "    elif i<= 177:\n",
    "        try:\n",
    "            shutil.copyfile(os.path.join(original_dataset_dir, \"OTHERS\",file), os.path.join(test_OTHERS_dir,file))\n",
    "        except FileNotFoundError:\n",
    "            print(file)\n",
    "        i+=1\n",
    "    "
   ]
  },
  {
   "cell_type": "code",
   "execution_count": 1,
   "metadata": {},
   "outputs": [
    {
     "name": "stderr",
     "output_type": "stream",
     "text": [
      "Using TensorFlow backend.\n"
     ]
    },
    {
     "data": {
      "text/plain": [
       "[]"
      ]
     },
     "execution_count": 1,
     "metadata": {},
     "output_type": "execute_result"
    }
   ],
   "source": [
    "from keras import backend as K\n",
    "K.tensorflow_backend._get_available_gpus()"
   ]
  },
  {
   "cell_type": "code",
   "execution_count": 4,
   "metadata": {},
   "outputs": [],
   "source": [
    "import tensorflow as tf\n",
    "sess = tf.Session(config=tf.ConfigProto(log_device_placement=True))\n",
    "\n"
   ]
  },
  {
   "cell_type": "code",
   "execution_count": null,
   "metadata": {},
   "outputs": [],
   "source": []
  }
 ],
 "metadata": {
  "kernelspec": {
   "display_name": "Python 3",
   "language": "python",
   "name": "python3"
  },
  "language_info": {
   "codemirror_mode": {
    "name": "ipython",
    "version": 3
   },
   "file_extension": ".py",
   "mimetype": "text/x-python",
   "name": "python",
   "nbconvert_exporter": "python",
   "pygments_lexer": "ipython3",
   "version": "3.6.7"
  }
 },
 "nbformat": 4,
 "nbformat_minor": 2
}
